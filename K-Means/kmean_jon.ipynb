{
 "cells": [
  {
   "cell_type": "code",
   "execution_count": 2,
   "id": "d1ffba34",
   "metadata": {},
   "outputs": [],
   "source": [
    "import math\n",
    "\n"
   ]
  },
  {
   "cell_type": "code",
   "execution_count": 3,
   "id": "aba70e14",
   "metadata": {},
   "outputs": [],
   "source": [
    "#points\n",
    "points = points = [(2, 3), (2, 4), (8, 9), (7, 8), (1, 2), (8, 8), (9, 7), (2, 2)]"
   ]
  },
  {
   "cell_type": "code",
   "execution_count": 4,
   "id": "230343e7",
   "metadata": {},
   "outputs": [
    {
     "name": "stdout",
     "output_type": "stream",
     "text": [
      "\n",
      "Iteration 1\n",
      "Cluster 1: [(2, 3), (1, 2), (2, 2)]\n",
      "Cluster 2: [(2, 4), (8, 9), (7, 8), (8, 8), (9, 7)]\n",
      "\n",
      "Iteration 2\n",
      "Cluster 1: [(2, 3), (2, 4), (1, 2), (2, 2)]\n",
      "Cluster 2: [(8, 9), (7, 8), (8, 8), (9, 7)]\n",
      "\n",
      "Iteration 3\n",
      "Cluster 1: [(2, 3), (2, 4), (1, 2), (2, 2)]\n",
      "Cluster 2: [(8, 9), (7, 8), (8, 8), (9, 7)]\n",
      "\n",
      "Final Clusters Created \n",
      "Cluster 1: [(2, 3), (2, 4), (1, 2), (2, 2)] \n",
      "Cluster 2: [(8, 9), (7, 8), (8, 8), (9, 7)]\n"
     ]
    }
   ],
   "source": [
    "#Initializing Clusters\n",
    "k1 = []\n",
    "k2 = []\n",
    "\n",
    "# Initial means Select randomly\n",
    "m1 = (2,3) \n",
    "m2 = (2, 4)\n",
    "\n",
    "# Old means\n",
    "om1, om2 = m1, m2\n",
    "\n",
    "iteration = 0\n",
    "\n",
    "while True:\n",
    "    iteration +=1\n",
    "    \n",
    "    print(f\"\\nIteration {iteration}\")\n",
    "    \n",
    "    # Storing the values as old means to see if clusters change (i.e if means change)\n",
    "    om1 = m1\n",
    "    om2 = m2\n",
    "    \n",
    "    k1 = []\n",
    "    k2 = []\n",
    "    \n",
    "    \n",
    "    for point in points:\n",
    "        #Calculate closeness of point with mean \n",
    "        t1 = math.sqrt((point[0] - m1[0])**2 + (point[1] - m1[1])**2) \n",
    "        t2 = math.sqrt((point[0] - m2[0])**2 + (point[1] - m2[1])**2)\n",
    "        \n",
    "        \n",
    "        if t1< t2:\n",
    "            k1.append(point) #point is close to m1\n",
    "        else:\n",
    "            k2.append(point) #point is close to m2\n",
    "            \n",
    "    # Show the clusters formed\n",
    "    print(f\"Cluster 1: {k1}\")\n",
    "    print(f\"Cluster 2: {k2}\")\n",
    "    \n",
    "    \n",
    "    #Time to calculate means from the clusters formed=> m1(x,y) & m2(x,y)\n",
    "    m1 = (sum(p[0] for p in k1)/len(k1), sum(p[1] for p in k1)/len(k1)) \n",
    "    m2 = (sum(p[0] for p in k2)/len(k2), sum(p[1] for p in k2)/len(k2)) \n",
    "    \n",
    "    #P\n",
    "    \n",
    "    #Checking if any changes took place in this iteration\n",
    "    if m1==om1 and m2==om2:\n",
    "        #Clusters remained same in this iteration.\n",
    "        break\n",
    "        \n",
    "\n",
    "print(f\"\\nFinal Clusters Created \\nCluster 1: {k1} \\nCluster 2: {k2}\")\n",
    "    \n",
    "    \n",
    "    \n",
    "    \n"
   ]
  },
  {
   "cell_type": "code",
   "execution_count": null,
   "id": "8b26f28b",
   "metadata": {},
   "outputs": [],
   "source": []
  }
 ],
 "metadata": {
  "kernelspec": {
   "display_name": "Python 3 (ipykernel)",
   "language": "python",
   "name": "python3"
  },
  "language_info": {
   "codemirror_mode": {
    "name": "ipython",
    "version": 3
   },
   "file_extension": ".py",
   "mimetype": "text/x-python",
   "name": "python",
   "nbconvert_exporter": "python",
   "pygments_lexer": "ipython3",
   "version": "3.10.5"
  }
 },
 "nbformat": 4,
 "nbformat_minor": 5
}
