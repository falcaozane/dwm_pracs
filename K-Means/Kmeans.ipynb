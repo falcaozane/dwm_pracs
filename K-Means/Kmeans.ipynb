{
 "cells": [
  {
   "cell_type": "code",
   "execution_count": 1,
   "id": "4880273f-d6b1-4a8d-97a6-1fc2df6aaa46",
   "metadata": {},
   "outputs": [
    {
     "name": "stdout",
     "output_type": "stream",
     "text": [
      "\n",
      "Iteration 1:\n",
      "\n",
      "Cluster 1: [(2, 3), (2, 4), (1, 2), (2, 2)]\n",
      "m1= (1.75, 2.75)\n",
      "\n",
      "Cluster 2: [(8, 9), (7, 8), (8, 8), (9, 7)]\n",
      "m2= (8.0, 8.0)\n",
      "\n",
      " ----\n",
      "\n",
      "Iteration 2:\n",
      "\n",
      "Cluster 1: [(2, 3), (2, 4), (1, 2), (2, 2)]\n",
      "m1= (1.75, 2.75)\n",
      "\n",
      "Cluster 2: [(8, 9), (7, 8), (8, 8), (9, 7)]\n",
      "m2= (8.0, 8.0)\n",
      "\n",
      " ----\n",
      "\n",
      "Clusters created\n"
     ]
    }
   ],
   "source": [
    "import math\n",
    "\n",
    "# Points\n",
    "points = [(2, 3), (2, 4), (8, 9), (7, 8), (1, 2), (8, 8), (9, 7), (2, 2)]\n",
    "\n",
    "# Initializing clusters\n",
    "k1 = []\n",
    "k2 = []\n",
    "\n",
    "# Initial means\n",
    "m1 = (2, 3)  # Initial mean 1\n",
    "m2 = (8, 9)  # Initial mean 2\n",
    "\n",
    "om1, om2 = m1, m2  # old means\n",
    "\n",
    "iteration = 0\n",
    "\n",
    "while True:\n",
    "    iteration += 1\n",
    "    print(f\"\\nIteration {iteration}:\")\n",
    "\n",
    "    om1 = m1\n",
    "    om2 = m2\n",
    "\n",
    "    k1 = []\n",
    "    k2 = []\n",
    "\n",
    "    for point in points:\n",
    "        t1 = math.sqrt((point[0] - m1[0]) ** 2 + (point[1] - m1[1]) ** 2) #Eucleidian algo \n",
    "        t2 = math.sqrt((point[0] - m2[0]) ** 2 + (point[1] - m2[1]) ** 2)\n",
    "\n",
    "        if t1 < t2:\n",
    "            k1.append(point)\n",
    "        else:\n",
    "            k2.append(point)\n",
    "\n",
    "    m1 = (sum(p[0] for p in k1) / len(k1), sum(p[1] for p in k1) / len(k1)) if k1 else (0, 0)\n",
    "    m2 = (sum(p[0] for p in k2) / len(k2), sum(p[1] for p in k2) / len(k2)) if k2 else (0, 0)\n",
    "    \n",
    "    print(\"\\nCluster 1:\", k1)\n",
    "    print(\"m1=\", m1)\n",
    "\n",
    "    print(\"\\nCluster 2:\", k2)\n",
    "    print(\"m2=\", m2)\n",
    "\n",
    "    print(\"\\n ----\")\n",
    "\n",
    "    if m1 == om1 and m2 == om2:\n",
    "        break\n",
    "\n",
    "print(\"\\nClusters created\")"
   ]
  },
  {
   "cell_type": "code",
   "execution_count": null,
   "id": "b9fd44b1-2051-4823-80fe-a49393c50a7d",
   "metadata": {},
   "outputs": [],
   "source": []
  }
 ],
 "metadata": {
  "kernelspec": {
   "display_name": "Python 3 (ipykernel)",
   "language": "python",
   "name": "python3"
  },
  "language_info": {
   "codemirror_mode": {
    "name": "ipython",
    "version": 3
   },
   "file_extension": ".py",
   "mimetype": "text/x-python",
   "name": "python",
   "nbconvert_exporter": "python",
   "pygments_lexer": "ipython3",
   "version": "3.11.5"
  }
 },
 "nbformat": 4,
 "nbformat_minor": 5
}
