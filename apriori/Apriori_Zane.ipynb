{
 "cells": [
  {
   "cell_type": "code",
   "execution_count": 1,
   "id": "9bddbe02-c66c-45c8-9698-0f3ea95e991a",
   "metadata": {},
   "outputs": [],
   "source": [
    "from itertools import combinations\n",
    "\n",
    "def generate_candidates(itemsets, k):\n",
    " candidates = set()\n",
    " for itemset1 in itemsets:\n",
    "     for itemset2 in itemsets:\n",
    "         candidate = itemset1 | itemset2\n",
    "         if len(candidate) == k:\n",
    "             candidates.add(candidate)\n",
    " return candidates"
   ]
  },
  {
   "cell_type": "code",
   "execution_count": 10,
   "id": "731e54e3-b144-428a-99e3-eec575727388",
   "metadata": {},
   "outputs": [],
   "source": [
    "def prune(itemsets, candidates, k):\n",
    "    pruned_itemsets = set()\n",
    "    for candidate in candidates:\n",
    "        is_valid = True\n",
    "        for subset in combinations(candidate, k - 1):\n",
    "             if set(subset) not in itemsets:\n",
    "                 is_valid = False\n",
    "                 break\n",
    "        if is_valid:\n",
    "            pruned_itemsets.add(candidate)\n",
    "    return pruned_itemsets"
   ]
  },
  {
   "cell_type": "code",
   "execution_count": 11,
   "id": "c5777899-8a5c-4a79-832c-896594f44663",
   "metadata": {},
   "outputs": [],
   "source": [
    "def apriori(data, min_support):\n",
    "    itemsets = [frozenset([item]) for item in set(data[0])]\n",
    "    frequent_itemsets = []\n",
    "    for k in range(1, len(set(data[0])) + 1):\n",
    "        candidates = generate_candidates(itemsets, k)\n",
    "        item_counts = {itemset: 0 for itemset in candidates}\n",
    " \n",
    "    for transaction in data:\n",
    "     for candidate in candidates:\n",
    "         if candidate.issubset(transaction):\n",
    "             item_counts[candidate] += 1\n",
    " \n",
    "     frequent_itemsets.extend([itemset for itemset, count in item_counts.items() if count / len(data) >= min_support])\n",
    " \n",
    "     itemsets = prune(itemsets, candidates, k)\n",
    " \n",
    "     if not itemsets:\n",
    "         break\n",
    "    return frequent_itemsets"
   ]
  },
  {
   "cell_type": "code",
   "execution_count": 14,
   "id": "c6d3d1ba-04bf-4ccf-9671-821beaa1bbee",
   "metadata": {},
   "outputs": [],
   "source": [
    "# Example usage\n",
    "data = [\n",
    " {\"A\", \"B\", \"C\", \"D\"},\n",
    " {\"A\", \"B\"},\n",
    " {\"A\", \"B\", \"D\"},\n",
    " {\"A\", \"C\", \"D\"},\n",
    "]\n",
    "min_support = 0.5\n",
    "frequent_itemsets = apriori(data, min_support)\n",
    "for itemset in frequent_itemsets:\n",
    "    print(itemset)"
   ]
  },
  {
   "cell_type": "code",
   "execution_count": null,
   "id": "481c86e2-4572-4ca3-835a-86bbeeb2a92d",
   "metadata": {},
   "outputs": [],
   "source": []
  }
 ],
 "metadata": {
  "kernelspec": {
   "display_name": "Python 3 (ipykernel)",
   "language": "python",
   "name": "python3"
  },
  "language_info": {
   "codemirror_mode": {
    "name": "ipython",
    "version": 3
   },
   "file_extension": ".py",
   "mimetype": "text/x-python",
   "name": "python",
   "nbconvert_exporter": "python",
   "pygments_lexer": "ipython3",
   "version": "3.11.5"
  }
 },
 "nbformat": 4,
 "nbformat_minor": 5
}
