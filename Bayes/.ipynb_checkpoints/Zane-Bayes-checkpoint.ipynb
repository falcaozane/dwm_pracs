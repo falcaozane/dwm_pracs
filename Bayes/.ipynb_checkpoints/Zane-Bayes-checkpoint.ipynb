{
 "cells": [
  {
   "cell_type": "code",
   "execution_count": null,
   "id": "8efad67b-506e-4adc-9883-6ee7832881a6",
   "metadata": {},
   "outputs": [],
   "source": [
    "# Assigning numbers to the data\n",
    "\n",
    "# outlook\n",
    "# rainy = 0, overcast = 1, sunny = 2\n",
    "\n",
    "# temperature\n",
    "# hot = 0, mild = 1, cool = 2\n",
    "\n",
    "# humidity\n",
    "# normal = 0, high = 1\n",
    "\n",
    "# windy\n",
    "# false = 0, true = 1\n",
    "\n",
    "# play golf\n",
    "# no = 0, yes = 1"
   ]
  },
  {
   "cell_type": "code",
   "execution_count": 1,
   "id": "ab10c097-3387-4314-9c90-98e21e88c813",
   "metadata": {},
   "outputs": [],
   "source": [
    "#dataset converted to integers using above notations\n",
    "dataset = [\n",
    "           [0,0,1,0,0],\n",
    "           [0,0,1,1,0],\n",
    "           [1,0,1,0,1],\n",
    "           [2,1,1,0,1],\n",
    "           [2,2,0,0,1],\n",
    "           [2,2,0,1,0],\n",
    "           [1,2,0,1,1],\n",
    "           [0,1,1,0,0],\n",
    "           [0,2,0,0,1],\n",
    "           [2,1,0,0,1],\n",
    "           [0,1,0,1,1],\n",
    "           [1,1,1,1,1],\n",
    "           [1,0,0,0,1],\n",
    "           [2,1,1,1,0]\n",
    "           ]"
   ]
  },
  {
   "cell_type": "code",
   "execution_count": 12,
   "id": "2421396c-e492-4cc3-a4d7-6538edf5ab99",
   "metadata": {},
   "outputs": [
    {
     "name": "stdout",
     "output_type": "stream",
     "text": [
      "0\n",
      "[0, 0, 1, 0, 0]\n",
      "[0, 0, 1, 1, 0]\n",
      "[2, 2, 0, 1, 0]\n",
      "[0, 1, 1, 0, 0]\n",
      "[2, 1, 1, 1, 0]\n",
      "1\n",
      "[1, 0, 1, 0, 1]\n",
      "[2, 1, 1, 0, 1]\n",
      "[2, 2, 0, 0, 1]\n",
      "[1, 2, 0, 1, 1]\n",
      "[0, 2, 0, 0, 1]\n",
      "[2, 1, 0, 0, 1]\n",
      "[0, 1, 0, 1, 1]\n",
      "[1, 1, 1, 1, 1]\n",
      "[1, 0, 0, 0, 1]\n"
     ]
    }
   ],
   "source": [
    "mp = dict()\n",
    "for i in range(len(dataset)):\n",
    "    row = dataset[i]\n",
    "    y = row[-1]\n",
    "    if y not in mp:\n",
    "        mp[y]=list()\n",
    "    mp[y].append(row)\n",
    "    \n",
    "for label in mp:\n",
    "    print(label)\n",
    "    for row in mp[label]:\n",
    "        print(row)"
   ]
  },
  {
   "cell_type": "code",
   "execution_count": 13,
   "id": "1e250e20-c5fd-4f35-a4b6-e3389b4f29f1",
   "metadata": {},
   "outputs": [],
   "source": [
    "test = [2,1,0,1]"
   ]
  },
  {
   "cell_type": "code",
   "execution_count": 26,
   "id": "2096a376-7b2b-435d-abcc-8a33546cf439",
   "metadata": {},
   "outputs": [
    {
     "name": "stdout",
     "output_type": "stream",
     "text": [
      "Total Yes: 9/14\n",
      "Total No: 5/14\n"
     ]
    }
   ],
   "source": [
    "count = 0\n",
    "total = 0\n",
    "for row in dataset:\n",
    "    if(row[-1]==1): # checking whethere last element is 1\n",
    "        count+=1\n",
    "    total+=1\n",
    "print(\"Total Yes: \"+str(count)+\"/\"+ str(total))\n",
    "\n",
    "count = 0\n",
    "total = 0\n",
    "for row in dataset:\n",
    "    if(row[-1] == 0): # checking whethere last element is 0\n",
    "        count+=1\n",
    "    total+=1\n",
    "probNo *= count/total\n",
    "print(\"Total No: \"+str(count)+\"/\"+str(total))\n"
   ]
  },
  {
   "cell_type": "code",
   "execution_count": 22,
   "id": "2423b273-e991-4aa8-aefc-62527e98cd2d",
   "metadata": {},
   "outputs": [
    {
     "name": "stdout",
     "output_type": "stream",
     "text": [
      "for feature: 1\n",
      "3 / 9\n",
      "for feature: 2\n",
      "4 / 9\n",
      "for feature: 3\n",
      "6 / 9\n",
      "for feature: 4\n",
      "3 / 9\n"
     ]
    }
   ],
   "source": [
    "probYes = 1\n",
    "for i in range(len(test)):\n",
    "    count = 0\n",
    "    total = 0\n",
    "    for row in mp[1]:\n",
    "        if test[i]==row[i]:\n",
    "            count+=1\n",
    "        total+=1\n",
    "    print('for feature: '+str(i+1)) # not imp\n",
    "    print(str(count)+\" / \"+str(total)) # not imp\n",
    "    probYes *= count/total # probyes = probyes * (count/total)"
   ]
  },
  {
   "cell_type": "code",
   "execution_count": 28,
   "id": "9a3e1ba6-1d3b-4a27-bf98-475a77063903",
   "metadata": {},
   "outputs": [
    {
     "name": "stdout",
     "output_type": "stream",
     "text": [
      "for feature 1\n",
      "2/5\n",
      "for feature 2\n",
      "2/5\n",
      "for feature 3\n",
      "1/5\n",
      "for feature 4\n",
      "3/5\n"
     ]
    }
   ],
   "source": [
    "probNo = 1\n",
    "count = 0\n",
    "total = 0\n",
    "\n",
    "for i in range(len(test)):\n",
    "    count = 0\n",
    "    total = 0\n",
    "    for row in mp[0]:\n",
    "        if(test[i] == row[i]):\n",
    "            count += 1\n",
    "        total += 1\n",
    "    print('for feature '+str(i+1))\n",
    "    print(str(count)+\"/\"+str(total))\n",
    "    probNo *= count/total"
   ]
  },
  {
   "cell_type": "code",
   "execution_count": 8,
   "id": "be0053d0-de61-4459-8258-ec26983444b0",
   "metadata": {},
   "outputs": [
    {
     "name": "stdout",
     "output_type": "stream",
     "text": [
      "0.021164021164021163\n",
      "0.006857142857142859\n"
     ]
    }
   ],
   "source": [
    "print(probYes)\n",
    "print(probNo)"
   ]
  },
  {
   "cell_type": "code",
   "execution_count": 9,
   "id": "26f830bb-4729-4146-9f49-4c73ab37636b",
   "metadata": {},
   "outputs": [
    {
     "name": "stdout",
     "output_type": "stream",
     "text": [
      "Probability of playing golf: 75.5287009063444%\n"
     ]
    }
   ],
   "source": [
    "prob = probYes/(probYes+probNo)\n",
    "print(\"Probability of playing golf: \"+str(prob*100)+\"%\")"
   ]
  },
  {
   "cell_type": "code",
   "execution_count": 10,
   "id": "07133d96-c692-4dc5-92bf-afc9b1f86de8",
   "metadata": {},
   "outputs": [
    {
     "name": "stdout",
     "output_type": "stream",
     "text": [
      "Probability of not playing golf: 24.471299093655595%\n"
     ]
    }
   ],
   "source": [
    "prob = probNo/(probYes+probNo)\n",
    "print(\"Probability of not playing golf: \"+str(prob*100)+\"%\")"
   ]
  }
 ],
 "metadata": {
  "kernelspec": {
   "display_name": "Python 3 (ipykernel)",
   "language": "python",
   "name": "python3"
  },
  "language_info": {
   "codemirror_mode": {
    "name": "ipython",
    "version": 3
   },
   "file_extension": ".py",
   "mimetype": "text/x-python",
   "name": "python",
   "nbconvert_exporter": "python",
   "pygments_lexer": "ipython3",
   "version": "3.11.5"
  }
 },
 "nbformat": 4,
 "nbformat_minor": 5
}
