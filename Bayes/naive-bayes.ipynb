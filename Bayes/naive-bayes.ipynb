{
 "cells": [
  {
   "cell_type": "markdown",
   "metadata": {
    "id": "u2s_JYb8nzYR"
   },
   "source": [
    "naive bayes scratch implementation in python - weather dataset"
   ]
  },
  {
   "cell_type": "code",
   "execution_count": 1,
   "metadata": {
    "executionInfo": {
     "elapsed": 8,
     "status": "ok",
     "timestamp": 1695379357669,
     "user": {
      "displayName": "CRCE 9574 CE",
      "userId": "00553889139071353518"
     },
     "user_tz": 420
    },
    "id": "-fem8lIQeyQE"
   },
   "outputs": [],
   "source": [
    "dataset = [\n",
    "           [0,0,1,0,0],\n",
    "           [0,0,1,1,0],\n",
    "           [1,0,1,0,1],\n",
    "           [2,1,1,0,1],\n",
    "           [2,2,0,0,1],\n",
    "           [2,2,0,1,0],\n",
    "           [1,2,0,1,1],\n",
    "           [0,1,1,0,0],\n",
    "           [0,2,0,0,1],\n",
    "           [2,1,0,0,1],\n",
    "           [0,1,0,1,1],\n",
    "           [1,1,1,1,1],\n",
    "           [1,0,0,0,1],\n",
    "           [2,1,1,1,0]\n",
    "           ]"
   ]
  },
  {
   "cell_type": "code",
   "execution_count": 2,
   "metadata": {
    "colab": {
     "base_uri": "https://localhost:8080/"
    },
    "executionInfo": {
     "elapsed": 9,
     "status": "ok",
     "timestamp": 1695379370606,
     "user": {
      "displayName": "CRCE 9574 CE",
      "userId": "00553889139071353518"
     },
     "user_tz": 420
    },
    "id": "4f3ymzkzfCbE",
    "outputId": "7409885d-7db3-40de-f14d-5345585a2c3b"
   },
   "outputs": [
    {
     "name": "stdout",
     "output_type": "stream",
     "text": [
      "0\n",
      "[0, 0, 1, 0, 0]\n",
      "[0, 0, 1, 1, 0]\n",
      "[2, 2, 0, 1, 0]\n",
      "[0, 1, 1, 0, 0]\n",
      "[2, 1, 1, 1, 0]\n",
      "1\n",
      "[1, 0, 1, 0, 1]\n",
      "[2, 1, 1, 0, 1]\n",
      "[2, 2, 0, 0, 1]\n",
      "[1, 2, 0, 1, 1]\n",
      "[0, 2, 0, 0, 1]\n",
      "[2, 1, 0, 0, 1]\n",
      "[0, 1, 0, 1, 1]\n",
      "[1, 1, 1, 1, 1]\n",
      "[1, 0, 0, 0, 1]\n"
     ]
    }
   ],
   "source": [
    "mp = dict()\n",
    "for i in range(len(dataset)):\n",
    "    row = dataset[i]\n",
    "    y = row[-1]\n",
    "    if (y not in mp):\n",
    "        mp[y] = list()\n",
    "    mp[y].append(row)\n",
    "for label in mp:\n",
    "    print(label)\n",
    "    for row in mp[label]:\n",
    "        print(row)"
   ]
  },
  {
   "cell_type": "code",
   "execution_count": 3,
   "metadata": {
    "executionInfo": {
     "elapsed": 9,
     "status": "ok",
     "timestamp": 1695379392688,
     "user": {
      "displayName": "CRCE 9574 CE",
      "userId": "00553889139071353518"
     },
     "user_tz": 420
    },
    "id": "6QCPstMZfCXq"
   },
   "outputs": [],
   "source": [
    "test = [2,1,0,1]"
   ]
  },
  {
   "cell_type": "code",
   "execution_count": 4,
   "metadata": {
    "colab": {
     "base_uri": "https://localhost:8080/"
    },
    "executionInfo": {
     "elapsed": 11,
     "status": "ok",
     "timestamp": 1695379397914,
     "user": {
      "displayName": "CRCE 9574 CE",
      "userId": "00553889139071353518"
     },
     "user_tz": 420
    },
    "id": "L5Jz4seEfCVe",
    "outputId": "00cec62c-3ccc-4bf9-a0a6-0989978b5c2f"
   },
   "outputs": [
    {
     "name": "stdout",
     "output_type": "stream",
     "text": [
      "Total yes: 9 / 14\n",
      "for feature 1\n",
      "3 / 9\n",
      "for feature 2\n",
      "4 / 9\n",
      "for feature 3\n",
      "6 / 9\n",
      "for feature 4\n",
      "3 / 9\n",
      "Total no: 5 / 14\n",
      "for feature 1\n",
      "2 / 5\n",
      "for feature 2\n",
      "2 / 5\n",
      "for feature 3\n",
      "1 / 5\n",
      "for feature 4\n",
      "3 / 5\n"
     ]
    }
   ],
   "source": [
    "probYes = 1\n",
    "\n",
    "count = 0\n",
    "total = 0\n",
    "for row in dataset:\n",
    "    if(row[-1] == 1):\n",
    "        count+=1\n",
    "    total+=1\n",
    "print(\"Total yes: \"+str(count)+\" / \"+str(total))\n",
    "probYes *= count/total\n",
    "for i in range(len(test)):\n",
    "    count = 0\n",
    "    total = 0\n",
    "    for row in mp[1]:\n",
    "        if(test[i] == row[i]):\n",
    "            count += 1\n",
    "        total += 1\n",
    "    print('for feature '+str(i+1))\n",
    "    print(str(count)+\" / \"+str(total))\n",
    "    probYes *= count/total\n",
    "\n",
    "probNo = 1\n",
    "count = 0\n",
    "total = 0\n",
    "for row in dataset:\n",
    "    if(row[-1] == 0):\n",
    "        count+=1\n",
    "    total+=1\n",
    "probNo *= count/total\n",
    "print(\"Total no: \"+str(count)+\" / \"+str(total))\n",
    "for i in range(len(test)):\n",
    "    count = 0\n",
    "    total = 0\n",
    "    for row in mp[0]:\n",
    "        if(test[i] == row[i]):\n",
    "            count += 1\n",
    "        total += 1\n",
    "    print('for feature '+str(i+1))\n",
    "    print(str(count)+\" / \"+str(total))\n",
    "    probNo *= count/total"
   ]
  },
  {
   "cell_type": "code",
   "execution_count": 5,
   "metadata": {
    "colab": {
     "base_uri": "https://localhost:8080/"
    },
    "executionInfo": {
     "elapsed": 8,
     "status": "ok",
     "timestamp": 1695379408071,
     "user": {
      "displayName": "CRCE 9574 CE",
      "userId": "00553889139071353518"
     },
     "user_tz": 420
    },
    "id": "GaebQkFKfCS6",
    "outputId": "92f57f35-a353-4b65-ccab-35b1f8403af0"
   },
   "outputs": [
    {
     "name": "stdout",
     "output_type": "stream",
     "text": [
      "0.021164021164021163\n",
      "0.006857142857142859\n"
     ]
    }
   ],
   "source": [
    "print(probYes)\n",
    "print(probNo)"
   ]
  },
  {
   "cell_type": "code",
   "execution_count": 6,
   "metadata": {
    "colab": {
     "base_uri": "https://localhost:8080/"
    },
    "executionInfo": {
     "elapsed": 9,
     "status": "ok",
     "timestamp": 1695379414110,
     "user": {
      "displayName": "CRCE 9574 CE",
      "userId": "00553889139071353518"
     },
     "user_tz": 420
    },
    "id": "gHJW_5bffCQR",
    "outputId": "8c1c1de8-e66d-46cb-858b-77a3da0550b1"
   },
   "outputs": [
    {
     "name": "stdout",
     "output_type": "stream",
     "text": [
      "Probability of playing golf: 75.5287009063444%\n"
     ]
    }
   ],
   "source": [
    "prob = probYes/(probYes+probNo)\n",
    "print(\"Probability of playing golf: \"+str(prob*100)+\"%\")"
   ]
  }
 ],
 "metadata": {
  "colab": {
   "authorship_tag": "ABX9TyMDCC5+rcSRoJLSBwewE037",
   "provenance": []
  },
  "kernelspec": {
   "display_name": "Python 3 (ipykernel)",
   "language": "python",
   "name": "python3"
  },
  "language_info": {
   "codemirror_mode": {
    "name": "ipython",
    "version": 3
   },
   "file_extension": ".py",
   "mimetype": "text/x-python",
   "name": "python",
   "nbconvert_exporter": "python",
   "pygments_lexer": "ipython3",
   "version": "3.11.5"
  }
 },
 "nbformat": 4,
 "nbformat_minor": 4
}
