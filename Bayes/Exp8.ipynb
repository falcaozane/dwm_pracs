{
 "cells": [
  {
   "cell_type": "markdown",
   "id": "ac4e7669",
   "metadata": {},
   "source": [
    "## Bayes Thereom\n"
   ]
  },
  {
   "cell_type": "code",
   "execution_count": null,
   "id": "451bf5ed",
   "metadata": {},
   "outputs": [],
   "source": [
    "# Assigning numbers to the data\n",
    "\n",
    "# outlook\n",
    "# rainy = 0, overcast = 1, sunny = 2\n",
    "\n",
    "# temperature\n",
    "# hot = 0, mild = 1, cool = 2\n",
    "\n",
    "# humidity\n",
    "# normal = 0, high = 1\n",
    "\n",
    "# windy\n",
    "# false = 0, true = 1\n",
    "\n",
    "# play golf\n",
    "# no = 0, yes = 1"
   ]
  },
  {
   "cell_type": "code",
   "execution_count": 2,
   "id": "025e7a29",
   "metadata": {},
   "outputs": [],
   "source": [
    "#dataset converted to integers using above notations\n",
    "dataset = [\n",
    "           [0,0,1,0,0],\n",
    "           [0,0,1,1,0],\n",
    "           [1,0,1,0,1],\n",
    "           [2,1,1,0,1],\n",
    "           [2,2,0,0,1],\n",
    "           [2,2,0,1,0],\n",
    "           [1,2,0,1,1],\n",
    "           [0,1,1,0,0],\n",
    "           [0,2,0,0,1],\n",
    "           [2,1,0,0,1],\n",
    "           [0,1,0,1,1],\n",
    "           [1,1,1,1,1],\n",
    "           [1,0,0,0,1],\n",
    "           [2,1,1,1,0]\n",
    "           ]"
   ]
  },
  {
   "cell_type": "code",
   "execution_count": 3,
   "id": "6e873275",
   "metadata": {},
   "outputs": [
    {
     "name": "stdout",
     "output_type": "stream",
     "text": [
      "0\n",
      "[0, 0, 1, 0, 0]\n",
      "[0, 0, 1, 1, 0]\n",
      "[2, 2, 0, 1, 0]\n",
      "[0, 1, 1, 0, 0]\n",
      "[2, 1, 1, 1, 0]\n",
      "1\n",
      "[1, 0, 1, 0, 1]\n",
      "[2, 1, 1, 0, 1]\n",
      "[2, 2, 0, 0, 1]\n",
      "[1, 2, 0, 1, 1]\n",
      "[0, 2, 0, 0, 1]\n",
      "[2, 1, 0, 0, 1]\n",
      "[0, 1, 0, 1, 1]\n",
      "[1, 1, 1, 1, 1]\n",
      "[1, 0, 0, 0, 1]\n"
     ]
    }
   ],
   "source": [
    "mp = dict()\n",
    "for i in range(len(dataset)):\n",
    "    row = dataset[i]\n",
    "    y = row[-1]\n",
    "    if (y not in mp):\n",
    "        mp[y] = list()\n",
    "    mp[y].append(row)\n",
    "for label in mp:\n",
    "    print(label)\n",
    "    for row in mp[label]:\n",
    "        print(row)"
   ]
  },
  {
   "cell_type": "code",
   "execution_count": 4,
   "id": "9f2dad6a",
   "metadata": {},
   "outputs": [],
   "source": [
    "test = [2,1,0,1]"
   ]
  },
  {
   "cell_type": "code",
   "execution_count": 5,
   "id": "06ccc2af",
   "metadata": {},
   "outputs": [
    {
     "name": "stdout",
     "output_type": "stream",
     "text": [
      "Total yes: 9 / 14\n",
      "for feature 1\n",
      "3 / 9\n",
      "for feature 2\n",
      "4 / 9\n",
      "for feature 3\n",
      "6 / 9\n",
      "for feature 4\n",
      "3 / 9\n",
      "Total no: 5 / 14\n",
      "for feature 1\n",
      "2 / 5\n",
      "for feature 2\n",
      "2 / 5\n",
      "for feature 3\n",
      "1 / 5\n",
      "for feature 4\n",
      "3 / 5\n"
     ]
    }
   ],
   "source": [
    "probYes = 1\n",
    "\n",
    "count = 0\n",
    "total = 0\n",
    "for row in dataset:\n",
    "    if(row[-1] == 1):\n",
    "        count+=1\n",
    "    total+=1\n",
    "print(\"Total yes: \"+str(count)+\" / \"+str(total))\n",
    "probYes *= count/total\n",
    "for i in range(len(test)):\n",
    "    count = 0\n",
    "    total = 0\n",
    "    for row in mp[1]:\n",
    "        if(test[i] == row[i]):\n",
    "            count += 1\n",
    "        total += 1\n",
    "    print('for feature '+str(i+1))\n",
    "    print(str(count)+\" / \"+str(total))\n",
    "    probYes *= count/total\n",
    "\n",
    "probNo = 1\n",
    "count = 0\n",
    "total = 0\n",
    "for row in dataset:\n",
    "    if(row[-1] == 0):\n",
    "        count+=1\n",
    "    total+=1\n",
    "probNo *= count/total\n",
    "print(\"Total no: \"+str(count)+\" / \"+str(total))\n",
    "for i in range(len(test)):\n",
    "    count = 0\n",
    "    total = 0\n",
    "    for row in mp[0]:\n",
    "        if(test[i] == row[i]):\n",
    "            count += 1\n",
    "        total += 1\n",
    "    print('for feature '+str(i+1))\n",
    "    print(str(count)+\" / \"+str(total))\n",
    "    probNo *= count/total"
   ]
  },
  {
   "cell_type": "code",
   "execution_count": 6,
   "id": "5ce1bfdf",
   "metadata": {},
   "outputs": [
    {
     "name": "stdout",
     "output_type": "stream",
     "text": [
      "0.021164021164021163\n",
      "0.006857142857142859\n"
     ]
    }
   ],
   "source": [
    "print(probYes)\n",
    "print(probNo)"
   ]
  },
  {
   "cell_type": "code",
   "execution_count": 7,
   "id": "5f831812",
   "metadata": {},
   "outputs": [
    {
     "name": "stdout",
     "output_type": "stream",
     "text": [
      "Probability of playing golf: 75.5287009063444%\n"
     ]
    }
   ],
   "source": [
    "prob = probYes/(probYes+probNo)\n",
    "print(\"Probability of playing golf: \"+str(prob*100)+\"%\")"
   ]
  },
  {
   "cell_type": "markdown",
   "id": "fdffd844",
   "metadata": {},
   "source": [
    "## Linear Regression"
   ]
  },
  {
   "cell_type": "code",
   "execution_count": 8,
   "id": "6726618c",
   "metadata": {},
   "outputs": [],
   "source": [
    "#Air Velocity (cm/sec) 20,60,100,140,180,220,260,300,340,380\n",
    "\n",
    "#Evaporation Coefficient(mm 2 /sec)0.18, 0.37, 0.35, 0.78, 0.56, 0.75, 1.18, 1.36, 1.17, 1.65"
   ]
  },
  {
   "cell_type": "code",
   "execution_count": 9,
   "id": "113c9884",
   "metadata": {},
   "outputs": [],
   "source": [
    "Air_vel_AND_Eva_coeff = [\n",
    "                            [20,0.18],\n",
    "                            [60,0.37],\n",
    "                            [100,0.35],\n",
    "                            [140,0.78],\n",
    "                            [180,0.56],\n",
    "                            [220,0.75],\n",
    "                            [260,1.18],\n",
    "                            [300,1.36],\n",
    "                            [340,1.17],\n",
    "                            [380,1.65]\n",
    "                        ]"
   ]
  },
  {
   "cell_type": "code",
   "execution_count": 10,
   "id": "3c72cf3b",
   "metadata": {},
   "outputs": [
    {
     "data": {
      "image/png": "[encoded data removed]",
      "text/plain": [
       "<Figure size 640x480 with 1 Axes>"
      ]
     },
     "metadata": {},
     "output_type": "display_data"
    }
   ],
   "source": [
    "x = [i[0] for i in Air_vel_AND_Eva_coeff]\n",
    "y = [i[1] for i in Air_vel_AND_Eva_coeff]\n",
    "import matplotlib.pyplot as plt\n",
    "plt.scatter(x,y)\n",
    "plt.show()"
   ]
  },
  {
   "cell_type": "code",
   "execution_count": 11,
   "id": "1efd6f7f",
   "metadata": {},
   "outputs": [],
   "source": [
    "import math\n",
    "\n",
    "def mean(n):\n",
    "    return sum(n) / float(len(n))\n",
    "\n",
    "def covariance(x, mx, y, my):\n",
    "    covar = 0.0\n",
    "    for i in range(len(x)):\n",
    "        covar += (x[i] - mx) * (y[i] - my)\n",
    "    return covar\n",
    "\n",
    "def variance(values, mean):\n",
    "    return sum([(x-mean)**2 for x in values])"
   ]
  },
  {
   "cell_type": "code",
   "execution_count": 12,
   "id": "de0ac25f",
   "metadata": {},
   "outputs": [
    {
     "name": "stdout",
     "output_type": "stream",
     "text": [
      "0.06924242424242422\n",
      "0.0038287878787878786\n"
     ]
    }
   ],
   "source": [
    "x_mean, y_mean = mean(x), mean(y)\n",
    "w1 = covariance(x, x_mean, y, y_mean) / variance(x, x_mean)\n",
    "w0 = y_mean - w1 * x_mean\n",
    "print(w0)\n",
    "print(w1)"
   ]
  },
  {
   "cell_type": "code",
   "execution_count": 13,
   "id": "020e6072",
   "metadata": {},
   "outputs": [
    {
     "data": {
      "image/png": "[encoded data removed]",
      "text/plain": [
       "<Figure size 640x480 with 1 Axes>"
      ]
     },
     "metadata": {},
     "output_type": "display_data"
    }
   ],
   "source": [
    "import numpy as np\n",
    "x = np.array(x)\n",
    "plt.scatter(x,y)\n",
    "plt.plot(x, w0 + w1*x, linestyle='solid')\n",
    "plt.show()"
   ]
  },
  {
   "cell_type": "code",
   "execution_count": 14,
   "id": "43c5626a",
   "metadata": {},
   "outputs": [
    {
     "name": "stdout",
     "output_type": "stream",
     "text": [
      "0.1422605377680705\n"
     ]
    }
   ],
   "source": [
    "def rmse(actual, predicted):\n",
    "    sum_error = 0.0\n",
    "    for i in range(len(actual)):\n",
    "        prediction_error = predicted[i] - actual[i]\n",
    "        sum_error += (prediction_error ** 2)\n",
    "    mean_error = sum_error / float(len(actual))\n",
    "    return (mean_error)**0.5\n",
    "\n",
    "yPred = [w0 + q*w1 for q in x]\n",
    "print(rmse(y,yPred))"
   ]
  },
  {
   "cell_type": "code",
   "execution_count": 15,
   "id": "36961834",
   "metadata": {},
   "outputs": [
    {
     "name": "stdout",
     "output_type": "stream",
     "text": [
      "Enter the x to classify\n",
      "360\n",
      "1.4476060606060606\n"
     ]
    }
   ],
   "source": [
    "print(\"Enter the x to classify\")\n",
    "test = [int(i) for i in input().split()]\n",
    "yNew = w0 + w1 * test[0]\n",
    "print(yNew)"
   ]
  },
  {
   "cell_type": "code",
   "execution_count": null,
   "id": "676f17d8",
   "metadata": {},
   "outputs": [],
   "source": []
  }
 ],
 "metadata": {
  "kernelspec": {
   "display_name": "Python 3 (ipykernel)",
   "language": "python",
   "name": "python3"
  },
  "language_info": {
   "codemirror_mode": {
    "name": "ipython",
    "version": 3
   },
   "file_extension": ".py",
   "mimetype": "text/x-python",
   "name": "python",
   "nbconvert_exporter": "python",
   "pygments_lexer": "ipython3",
   "version": "3.11.0"
  }
 },
 "nbformat": 4,
 "nbformat_minor": 5
}
