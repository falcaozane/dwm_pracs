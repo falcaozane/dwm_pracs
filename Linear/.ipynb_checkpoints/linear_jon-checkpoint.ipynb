{
 "cells": [
  {
   "cell_type": "code",
   "execution_count": 1,
   "id": "0c022dec",
   "metadata": {},
   "outputs": [],
   "source": [
    "import numpy as np"
   ]
  },
  {
   "cell_type": "code",
   "execution_count": 4,
   "id": "47f6d055",
   "metadata": {},
   "outputs": [],
   "source": [
    "# We have to predict evaporation_coefficient\n",
    "# air_velocity =>we will refer as \"x\"\n",
    "# evaporation_coefficient => we will refer as \"y\"\n",
    "\n",
    "air_velocity = np.array([30,70,110,150,180,220,260,300,350,390])\n",
    "evaporation_coefficient = np.array([0.18, 0.37, 0.35, 0.78, 0.56, 0.75, 1.18, 1.36, 1.17, 1.65])\n",
    "\n"
   ]
  },
  {
   "cell_type": "code",
   "execution_count": 9,
   "id": "61bf1a83",
   "metadata": {},
   "outputs": [
    {
     "name": "stdout",
     "output_type": "stream",
     "text": [
      "Air Velocity average:206.0 \n",
      "Evaporation Coefficient avergae: 0.835\n"
     ]
    }
   ],
   "source": [
    "# Finding mean\n",
    "x_mean = np.mean(air_velocity)\n",
    "y_mean = np.mean(evaporation_coefficient)\n",
    "\n",
    "print(f\"Air Velocity average: {x_mean} \")\n",
    "print(f\"Evaporation Coefficient avergae: {y_mean}\")"
   ]
  },
  {
   "cell_type": "code",
   "execution_count": 21,
   "id": "b4b6ebf3",
   "metadata": {},
   "outputs": [
    {
     "data": {
      "text/plain": [
       "array([0.15263174, 0.30771544, 0.46279913, 0.61788283, 0.7341956 ,\n",
       "       0.88927929, 1.04436299, 1.19944668, 1.3933013 , 1.548385  ])"
      ]
     },
     "execution_count": 21,
     "metadata": {},
     "output_type": "execute_result"
    }
   ],
   "source": [
    "# Find b1 = Σ [ (xi - x)(yi - y) ] / Σ [ (xi - x)2]\n",
    "# Find b0 = y - b1 * x\n",
    "# Put the values in formula ŷ = b0 + b1x\n",
    "\n",
    "\n",
    "\n",
    "# Σ [ (xi - x)(yi - y) ]\n",
    "xy_sum = np.sum((air_velocity - x_mean)*(evaporation_coefficient))\n",
    "\n",
    "\n",
    "# Σ [ (xi - x)2]\n",
    "x_squared_sum = np.sum((air_velocity- x_mean)**2)\n",
    "\n",
    "# b1\n",
    "b1 = xy_sum/x_squared_sum\n",
    "\n",
    "# b0\n",
    "b0 = y_mean - (b1*x_mean)\n",
    "\n",
    "\n",
    "# Put the values in formula ŷ = b0 + b1x\n",
    "def predict(givenX):\n",
    "    return b0 + b1*givenX \n",
    "\n",
    "# We are predicting the values of coefficient.\n",
    "y_predicted = predict(air_velocity)\n",
    "\n",
    "\n",
    "\n"
   ]
  },
  {
   "cell_type": "code",
   "execution_count": 23,
   "id": "9657d267",
   "metadata": {},
   "outputs": [
    {
     "data": {
      "text/plain": [
       "0.9074875739507839"
      ]
     },
     "execution_count": 23,
     "metadata": {},
     "output_type": "execute_result"
    }
   ],
   "source": [
    "#Calculate R-squared value = ssr/sst\n",
    "#ssr=> sum of square of residual =>sum of (residual = predicted - y_mean)^2\n",
    "ssr = np.sum((y_predicted - y_mean)**2)\n",
    "\n",
    "# sst =>sum of squares of (actualValue - y_mean), actual values are stored in evaporation_coefficient[]\n",
    "sst = np.sum((evaporation_coefficient - y_mean)**2)\n",
    "\n",
    "r_squared = ssr/sst\n",
    "\n",
    "\n"
   ]
  },
  {
   "cell_type": "code",
   "execution_count": 24,
   "id": "8851284f",
   "metadata": {},
   "outputs": [
    {
     "name": "stdout",
     "output_type": "stream",
     "text": [
      "1.0055920644761314\n"
     ]
    }
   ],
   "source": [
    "# Find the value evaporation coefficient for air velocity =250.  \n",
    "ecFor250 = predict(250)\n",
    "print(f\"Evaporation coefficient when velocity is 250: {ecFor250}\")"
   ]
  },
  {
   "cell_type": "code",
   "execution_count": null,
   "id": "2faa9e9c",
   "metadata": {},
   "outputs": [],
   "source": []
  }
 ],
 "metadata": {
  "kernelspec": {
   "display_name": "Python 3 (ipykernel)",
   "language": "python",
   "name": "python3"
  },
  "language_info": {
   "codemirror_mode": {
    "name": "ipython",
    "version": 3
   },
   "file_extension": ".py",
   "mimetype": "text/x-python",
   "name": "python",
   "nbconvert_exporter": "python",
   "pygments_lexer": "ipython3",
   "version": "3.10.5"
  }
 },
 "nbformat": 4,
 "nbformat_minor": 5
}
