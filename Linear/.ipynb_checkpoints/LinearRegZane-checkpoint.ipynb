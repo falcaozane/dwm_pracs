{
 "cells": [
  {
   "cell_type": "code",
   "execution_count": 3,
   "id": "d276c217-1a44-4452-992c-0a979804f70a",
   "metadata": {},
   "outputs": [
    {
     "name": "stdout",
     "output_type": "stream",
     "text": [
      "206.0\n",
      "0.835\n"
     ]
    }
   ],
   "source": [
    "import numpy as np\n",
    "# Air Velocity (cm/sec)\n",
    "x = np.array([30, 70, 110, 150, 180, 220, 260, 300, 350, 390])\n",
    "\n",
    "# Evaporation Coefficient (mm 2 /sec)\n",
    "y = np.array([0.18, 0.37, 0.35, 0.78, 0.56, 0.75, 1.18, 1.36, 1.17, 1.65])\n",
    "\n",
    "# Calculate the mean of x and y\n",
    "x_mean = np.mean(x)\n",
    "y_mean = np.mean(y)\n",
    "\n",
    "print(x_mean)\n",
    "print(y_mean)"
   ]
  },
  {
   "cell_type": "code",
   "execution_count": 6,
   "id": "be9a6787-eb1a-4222-ad71-0188b3727c4f",
   "metadata": {},
   "outputs": [
    {
     "name": "stdout",
     "output_type": "stream",
     "text": [
      "500.29999999999995\n",
      "129040.0\n"
     ]
    }
   ],
   "source": [
    "# Calculate the numerator and denominator of the slope formula\n",
    "numerator = np.sum((x - x_mean) * (y - y_mean))\n",
    "denominator = np.sum((x - x_mean) ** 2)\n",
    "\n",
    "print(numerator)\n",
    "print(denominator)"
   ]
  },
  {
   "cell_type": "code",
   "execution_count": 5,
   "id": "16fbea08-3266-40f0-8521-b379d35ec21b",
   "metadata": {},
   "outputs": [
    {
     "name": "stdout",
     "output_type": "stream",
     "text": [
      "Slope (b1): 0.003877092374457532\n",
      "Intercept (b0): 0.03631897086174829\n"
     ]
    }
   ],
   "source": [
    "# Calculate the slope (b1) = num /deno\n",
    "b1 = numerator / denominator   \n",
    "\n",
    "# Calculate the intercept (b0) = ymean - ( b1 * xmean )\n",
    "b0 = y_mean - (b1 * x_mean) \n",
    "\n",
    "# Print the slope and intercept\n",
    "print(\"Slope (b1):\", b1)\n",
    "print(\"Intercept (b0):\", b0)"
   ]
  },
  {
   "cell_type": "code",
   "execution_count": 9,
   "id": "20ded5d9-c281-4ad8-ba4d-aa1de2f68c9a",
   "metadata": {},
   "outputs": [
    {
     "name": "stdout",
     "output_type": "stream",
     "text": [
      "Predicted evaporation coefficient for air velocity = 250:  1.0055920644761314\n"
     ]
    }
   ],
   "source": [
    "# Calculate the predicted evaporation coefficient for air velocity = 250\n",
    "predicted_evaporation_coefficient = b0 + (b1 * 250)\n",
    "\n",
    "# Print the predicted evaporation coefficient\n",
    "print(\"Predicted evaporation coefficient for air velocity = 250: \", predicted_evaporation_coefficient)"
   ]
  },
  {
   "cell_type": "code",
   "execution_count": 10,
   "id": "242db7b0-8980-4578-bbc0-534d3a89b0db",
   "metadata": {},
   "outputs": [
    {
     "name": "stdout",
     "output_type": "stream",
     "text": [
      "R-squared value: 9.07487573950784\n"
     ]
    }
   ],
   "source": [
    "# Calculate the R-squared value = (num)^2 / (deno * variance(y))\n",
    "\n",
    "R_squared = numerator ** 2 / (denominator * np.var(y))\n",
    "\n",
    "# Print the R-squared value\n",
    "print(\"R-squared value:\", R_squared)"
   ]
  }
 ],
 "metadata": {
  "kernelspec": {
   "display_name": "Python 3 (ipykernel)",
   "language": "python",
   "name": "python3"
  },
  "language_info": {
   "codemirror_mode": {
    "name": "ipython",
    "version": 3
   },
   "file_extension": ".py",
   "mimetype": "text/x-python",
   "name": "python",
   "nbconvert_exporter": "python",
   "pygments_lexer": "ipython3",
   "version": "3.11.5"
  }
 },
 "nbformat": 4,
 "nbformat_minor": 5
}
